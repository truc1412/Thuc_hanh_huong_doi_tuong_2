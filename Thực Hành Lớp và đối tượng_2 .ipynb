{
 "cells": [
  {
   "cell_type": "markdown",
   "id": "82d2f168",
   "metadata": {},
   "source": [
    "Thực Hành 2 : Lớp Và Đối tượng "
   ]
  },
  {
   "cell_type": "markdown",
   "id": "5ed04cf5",
   "metadata": {},
   "source": [
    "Bài 1 Bank Account"
   ]
  },
  {
   "cell_type": "code",
   "execution_count": null,
   "id": "cbf13b60",
   "metadata": {},
   "outputs": [],
   "source": [
    "\"\"\"Tạo một lớp tên là BankAccount, đại diện cho tài khoản ngân hàng. Lớp này cần có các thuộc tính sau:\n",
    "\n",
    "balance: số tiền trong tài khoản.\n",
    "account_number: số tài khoản.\n",
    "\n",
    "Các phương thức của lớp BankAccount bao gồm:\n",
    "__init__(self, account_number): khởi tạo một tài khoản với số tài khoản được cung cấp và số dư ban đầu là 0.\n",
    "deposit(self, amount): gửi tiền vào tài khoản.\n",
    "withdraw(self, amount): rút tiền khỏi tài khoản.\n",
    "get_balance(self): lấy số dư hiện tại trong tài khoản"
   ]
  },
  {
   "cell_type": "code",
   "execution_count": 60,
   "id": "de2ba5a5",
   "metadata": {},
   "outputs": [
    {
     "name": "stdout",
     "output_type": "stream",
     "text": [
      "Số dư còn lại là: 12000\n",
      "Số dư còn lại là: 9000\n",
      "Số dư còn lại là: 9000\n",
      "Bạn đã rút 9000 và số dư còn lại là 0\n"
     ]
    }
   ],
   "source": [
    "class BankAccount:\n",
    "    \n",
    "    def __init__(self,account_number,balance):\n",
    "        self.account_number=account_number\n",
    "        self.balance=balance\n",
    "        \n",
    "    def deposit(self, amount):\n",
    "        self.balance=amount+self.balance\n",
    "        print(\"Số dư còn lại là:\",self.balance)\n",
    "    \n",
    "    def withdraw(self, amount):\n",
    "        self.balance=self.balance-amount\n",
    "        print(\"Số dư còn lại là:\",self.balance)\n",
    "        \n",
    "    def get_balance(self):\n",
    "        print(\"Số dư còn lại là:\",self.balance)\n",
    "        a=self.balance\n",
    "        self.balance=0\n",
    "        print(f\"Bạn đã rút {a} và số dư còn lại là {self.balance}\")\n",
    "        \n",
    "money=BankAccount(\"99245884\",0)\n",
    "money.deposit(12000)\n",
    "money.withdraw(3000)\n",
    "money.get_balance()"
   ]
  },
  {
   "cell_type": "markdown",
   "id": "0dece1d8",
   "metadata": {},
   "source": [
    "Bài 2 Book "
   ]
  },
  {
   "cell_type": "code",
   "execution_count": null,
   "id": "8ab7557d",
   "metadata": {},
   "outputs": [],
   "source": [
    "\"\"\"Tạo một lớp có tên Book đại diện cho một cuốn sách. Lớp nên có các thuộc tính sau:\n",
    "title: tên sách.\n",
    "tác giả: tác giả của cuốn sách.\n",
    "year_published: năm xuất bản cuốn sách.\n",
    "isbn: ISBN của cuốn sách.\"\"\""
   ]
  },
  {
   "cell_type": "code",
   "execution_count": null,
   "id": "916c729c",
   "metadata": {},
   "outputs": [],
   "source": [
    "class Book:\n",
    "    \n",
    "    "
   ]
  },
  {
   "cell_type": "code",
   "execution_count": null,
   "id": "eab63571",
   "metadata": {},
   "outputs": [],
   "source": []
  },
  {
   "cell_type": "markdown",
   "id": "f343e1f2",
   "metadata": {},
   "source": [
    "Bài 3 People"
   ]
  },
  {
   "cell_type": "code",
   "execution_count": null,
   "id": "8be57c86",
   "metadata": {},
   "outputs": [],
   "source": [
    "\"\"\"Tạo class People gồm:\n",
    "\n",
    "Thuộc tính: name, age,address để lưu lần lượt các giá trị tên, tuổi và địa chỉ.\n",
    "Phương thức trong class People gồm: set(), get() là hàm nhập và xuất; hàm khởi tạo không tham số và hàm huỷ.\n",
    "Tạo class Students kế thừa từ class People.\n",
    "\n",
    "Class Students sẽ có thêm:\n",
    "\n",
    "Thuộc tính id để lưu mã sinh viên, math lưu điểm môn toán, physical để lưu điểm môn vật lý, chemistry để lưu điểm môn hoá học.\n",
    "Phương thức: set(), get(), GPA() để tính điểm trung bình 3 môn học.\"\"\""
   ]
  },
  {
   "cell_type": "code",
   "execution_count": 8,
   "id": "a0669c96",
   "metadata": {},
   "outputs": [
    {
     "name": "stdout",
     "output_type": "stream",
     "text": [
      "Nhập tên: Hai\n",
      "Nhập tuổi: 22\n",
      "Nhập địa chỉ: HCM\n",
      "Nhập MSSV: 4881567\n",
      "Nhập điểm toán: 10\n",
      "Nhập điểm lý: 9\n",
      "Nhập điểm hóa: 8\n",
      "Họ và tên: Hai\n",
      "Tuổi: 22\n",
      "Địa chỉ: HCM\n",
      "MSSV: 4881567\n",
      "Điểm toán 10\n",
      "Điểm lý: 9\n",
      "Điểm hóa: 8\n"
     ]
    },
    {
     "data": {
      "text/plain": [
       "9.0"
      ]
     },
     "execution_count": 8,
     "metadata": {},
     "output_type": "execute_result"
    }
   ],
   "source": [
    "class People:\n",
    "    def __init__(self):\n",
    "        self.name=''\n",
    "        self.age=''\n",
    "        self.address=''\n",
    "    \n",
    "    def set(self):\n",
    "        self.name=input(\"Nhập tên: \")\n",
    "        self.age=input(\"Nhập tuổi: \")\n",
    "        self.address=input(\"Nhập địa chỉ: \")\n",
    "    \n",
    "    def get(self):\n",
    "        print(\"Họ và tên:\",self.name)\n",
    "        print(\"Tuổi:\",self.age)\n",
    "        print(\"Địa chỉ:\",self.address)\n",
    "        \n",
    "class Students(People):\n",
    "    def __init__(self, id=None, math=None, physical=None, chemistry=None):\n",
    "        super().__init__()\n",
    "        self.id=id\n",
    "        self.math=math\n",
    "        self.physical=physical\n",
    "        self.chemistry=chemistry\n",
    "    \n",
    "    def set(self):\n",
    "        super().set()\n",
    "        self.id=input(\"Nhập MSSV: \")\n",
    "        self.math=int(input(\"Nhập điểm toán: \"))\n",
    "        self.physical=int(input(\"Nhập điểm lý: \"))\n",
    "        self.chemistry=int(input(\"Nhập điểm hóa: \"))\n",
    "    \n",
    "    def get(self):\n",
    "        super().get()\n",
    "        print(\"MSSV:\",self.id)\n",
    "        print(\"Điểm toán\",self.math)\n",
    "        print(\"Điểm lý:\",self.physical)\n",
    "        print(\"Điểm hóa:\",self.chemistry)\n",
    "    \n",
    "    def GPA(self):\n",
    "        average = (self.math + self.physical + self.chemistry)/3\n",
    "        return  average\n",
    "\n",
    "student=Students()\n",
    "student.set()\n",
    "student.get()\n",
    "student.GPA()"
   ]
  },
  {
   "cell_type": "markdown",
   "id": "de222df5",
   "metadata": {},
   "source": [
    "Bài tập 4 Color"
   ]
  },
  {
   "cell_type": "code",
   "execution_count": null,
   "id": "4b0a70da",
   "metadata": {},
   "outputs": [],
   "source": [
    "\"\"\"Xây dựng lớp Color gồm:\n",
    "\n",
    "Thuộc tính: TenMau, MaMau\n",
    "\n",
    "Phương thức:\n",
    "\n",
    "Cấu tử không tham số\n",
    "Cấu tử có tham số\n",
    "Hủy\n",
    "Nạp chồng toán tử nhập\n",
    "Nạp chồng toán tử xuất\n",
    "getTenMau() : hàm trả về TenMau\n",
    "Xây dựng lớp Point gồm:\n",
    "\n",
    "Thuộc tính: int x, y\n",
    "\n",
    "Phương thức:\n",
    "\n",
    "Cấu tử không tham số\n",
    "Cấu tử có tham số\n",
    "Hủy\n",
    "Nạp chồng toán tử nhập\n",
    "Nạp chồng toán tử xuất\n",
    "CheoChinh : hàm kiểm tra Point có thuộc đường chéo chính hay không (1 điểm thuộc đường chéo chính khi và chỉ khi tung độ bằng hoành độ).\n",
    "Xây dựng lớp Pixel kế thừa từ lớp Color và Point bao gồm thêm:\n",
    "Phương thức:\n",
    "\n",
    "Cấu tử không tham số\n",
    "Cấu tử có tham số\n",
    "Nạp chồng toán tử nhập\n",
    "Nạp chồng toán tử xuất\n",
    "KiemTra: hàm kiểm tra Pixel thuộc đường chéo chính và có màu “Xanh” hay không?\n",
    "Chương trình chính: Nhập vào từ bàn phím n Pixel (n nhập từ bàn phím). Hiển thị thông\n",
    "tin các Pixel thuộc đường chéo chính và có màu xanh.\"\"\""
   ]
  },
  {
   "cell_type": "code",
   "execution_count": 1,
   "id": "ae5df8db",
   "metadata": {},
   "outputs": [
    {
     "name": "stdout",
     "output_type": "stream",
     "text": [
      "Nhập số Pixel: 1\n",
      "Nhập tên màu: Xanh\n",
      "Nhập mã màu: 1\n",
      "Nhập x: 1\n",
      "Nhập y: 1\n",
      "Các pixel thuộc chéo chính và có màu xanh\n",
      "Xanh,1 Toạ độ: 1,1\n"
     ]
    }
   ],
   "source": [
    "class Color:\n",
    "    def __init__(self,TenMau='',MaMau=''):\n",
    "        self.TenMau=TenMau\n",
    "        self.MaMau=MaMau\n",
    "        \n",
    "    def __str__(self):\n",
    "        return f'({self.TenMau},{self.MaMau})'\n",
    "    \n",
    "    def get_TenMau(self):\n",
    "        return self.TenMau\n",
    "\n",
    "class Point:\n",
    "    def __init__(self, x=0, y=0):\n",
    "        self.x=x\n",
    "        self.y=y\n",
    "    \n",
    "    def __str__(self):\n",
    "        return f'({self.x},{self.y})'\n",
    "    \n",
    "    def cheo_chinh(self):\n",
    "        return self.x==self.y\n",
    "    \n",
    "class Pixel(Color, Point):\n",
    "    def __init__(self, TenMau='', MaMau='', x=0, y=0):\n",
    "        Color.__init__(self, TenMau, MaMau)\n",
    "        Point.__init__(self, x, y)\n",
    "            \n",
    "    def check(self):\n",
    "        return self.cheo_chinh() and self.TenMau== \"Xanh\" \n",
    "    \n",
    "    def __str__(self):\n",
    "        return f'{self.TenMau},{self.MaMau} Toạ độ: {self.x},{self.y}'\n",
    "\n",
    "n= int(input(\"Nhập số Pixel: \"))   \n",
    "pixel=[]\n",
    "for i in range(n):\n",
    "    TenMau=input(\"Nhập tên màu: \")\n",
    "    MaMau=input(\"Nhập mã màu: \")\n",
    "    x=int(input(\"Nhập x: \"))\n",
    "    y=int(input(\"Nhập y: \"))\n",
    "    c_pixel=Pixel(TenMau, MaMau, x, y)\n",
    "    pixel.append(c_pixel)\n",
    "print(\"Các pixel thuộc chéo chính và có màu xanh\")\n",
    "\n",
    "for i in pixel:\n",
    "    if i.check():\n",
    "        print(i)"
   ]
  },
  {
   "cell_type": "markdown",
   "id": "42ca9af9",
   "metadata": {},
   "source": []
  },
  {
   "cell_type": "code",
   "execution_count": null,
   "id": "9081de6c",
   "metadata": {},
   "outputs": [],
   "source": []
  }
 ],
 "metadata": {
  "kernelspec": {
   "display_name": "Python 3 (ipykernel)",
   "language": "python",
   "name": "python3"
  },
  "language_info": {
   "codemirror_mode": {
    "name": "ipython",
    "version": 3
   },
   "file_extension": ".py",
   "mimetype": "text/x-python",
   "name": "python",
   "nbconvert_exporter": "python",
   "pygments_lexer": "ipython3",
   "version": "3.9.13"
  }
 },
 "nbformat": 4,
 "nbformat_minor": 5
}
